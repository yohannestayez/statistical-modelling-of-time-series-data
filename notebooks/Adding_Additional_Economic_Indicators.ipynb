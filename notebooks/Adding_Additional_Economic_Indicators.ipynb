{
 "cells": [
  {
   "cell_type": "code",
   "execution_count": 4,
   "metadata": {},
   "outputs": [],
   "source": [
    "import wbdata  # For World Bank data\n",
    "import pandas as pd\n",
    "import datetime as dt\n",
    "from fredapi import Fred\n",
    "import matplotlib.pyplot as plt\n",
    "import seaborn as sns\n",
    "import warnings\n",
    "warnings.filterwarnings('ignore')\n",
    "\n"
   ]
  },
  {
   "cell_type": "code",
   "execution_count": 7,
   "metadata": {},
   "outputs": [
    {
     "data": {
      "text/html": [
       "<div>\n",
       "<style scoped>\n",
       "    .dataframe tbody tr th:only-of-type {\n",
       "        vertical-align: middle;\n",
       "    }\n",
       "\n",
       "    .dataframe tbody tr th {\n",
       "        vertical-align: top;\n",
       "    }\n",
       "\n",
       "    .dataframe thead th {\n",
       "        text-align: right;\n",
       "    }\n",
       "</style>\n",
       "<table border=\"1\" class=\"dataframe\">\n",
       "  <thead>\n",
       "    <tr style=\"text-align: right;\">\n",
       "      <th></th>\n",
       "      <th>Date</th>\n",
       "      <th>Price</th>\n",
       "      <th>Returns</th>\n",
       "      <th>Log_Returns</th>\n",
       "      <th>Volatility</th>\n",
       "      <th>Momentum</th>\n",
       "      <th>Rolling_Corr</th>\n",
       "    </tr>\n",
       "  </thead>\n",
       "  <tbody>\n",
       "    <tr>\n",
       "      <th>0</th>\n",
       "      <td>1987-06-19</td>\n",
       "      <td>19.05</td>\n",
       "      <td>0.000000</td>\n",
       "      <td>0.000000</td>\n",
       "      <td>0.004308</td>\n",
       "      <td>0.37</td>\n",
       "      <td>NaN</td>\n",
       "    </tr>\n",
       "    <tr>\n",
       "      <th>1</th>\n",
       "      <td>1987-06-22</td>\n",
       "      <td>19.10</td>\n",
       "      <td>0.002625</td>\n",
       "      <td>0.002621</td>\n",
       "      <td>0.003544</td>\n",
       "      <td>0.32</td>\n",
       "      <td>NaN</td>\n",
       "    </tr>\n",
       "    <tr>\n",
       "      <th>2</th>\n",
       "      <td>1987-06-23</td>\n",
       "      <td>18.90</td>\n",
       "      <td>-0.010471</td>\n",
       "      <td>-0.010526</td>\n",
       "      <td>0.004313</td>\n",
       "      <td>0.00</td>\n",
       "      <td>NaN</td>\n",
       "    </tr>\n",
       "    <tr>\n",
       "      <th>3</th>\n",
       "      <td>1987-06-24</td>\n",
       "      <td>18.75</td>\n",
       "      <td>-0.007937</td>\n",
       "      <td>-0.007968</td>\n",
       "      <td>0.004698</td>\n",
       "      <td>-0.28</td>\n",
       "      <td>NaN</td>\n",
       "    </tr>\n",
       "    <tr>\n",
       "      <th>4</th>\n",
       "      <td>1987-06-25</td>\n",
       "      <td>18.70</td>\n",
       "      <td>-0.002667</td>\n",
       "      <td>-0.002670</td>\n",
       "      <td>0.004736</td>\n",
       "      <td>-0.35</td>\n",
       "      <td>NaN</td>\n",
       "    </tr>\n",
       "  </tbody>\n",
       "</table>\n",
       "</div>"
      ],
      "text/plain": [
       "        Date  Price   Returns  Log_Returns  Volatility  Momentum  Rolling_Corr\n",
       "0 1987-06-19  19.05  0.000000     0.000000    0.004308      0.37           NaN\n",
       "1 1987-06-22  19.10  0.002625     0.002621    0.003544      0.32           NaN\n",
       "2 1987-06-23  18.90 -0.010471    -0.010526    0.004313      0.00           NaN\n",
       "3 1987-06-24  18.75 -0.007937    -0.007968    0.004698     -0.28           NaN\n",
       "4 1987-06-25  18.70 -0.002667    -0.002670    0.004736     -0.35           NaN"
      ]
     },
     "metadata": {},
     "output_type": "display_data"
    }
   ],
   "source": [
    "file_path='C:/Users/Administrator/Documents/kifiya/Week_10/data/preproccessed_brent_oil_prices.csv'\n",
    "df = pd.read_csv(file_path, parse_dates=['Date'], dayfirst=True)\n",
    "df = df.sort_values(by='Date')\n",
    "\n",
    "display(df.head())\n"
   ]
  },
  {
   "cell_type": "code",
   "execution_count": 11,
   "metadata": {},
   "outputs": [],
   "source": [
    "# Set up FRED API\n",
    "fred_api_key = 'cccb814f569f57a4104878fa9cb9d389'\n",
    "fred = Fred(api_key=fred_api_key)\n",
    "\n",
    "# Define the data period to match the Brent oil prices dataset\n",
    "start_date = dt.datetime(1987, 5, 20)\n",
    "end_date = dt.datetime(2022, 9, 30)\n",
    "\n",
    "countries = ['USA', 'CHN', 'EMU']  # USA: United States, CHN: China, EMU: Euro Area\n",
    "indicators = {\n",
    "    'NY.GDP.MKTP.CD': 'GDP',\n",
    "    'FP.CPI.TOTL': 'Inflation',\n",
    "    'SL.UEM.TOTL.ZS': 'Unemployment'\n",
    "}\n"
   ]
  },
  {
   "cell_type": "code",
   "execution_count": null,
   "metadata": {},
   "outputs": [],
   "source": [
    "# Fetch data from World Bank API using date strings# Fetch data from World Bank API using datetime filtering directly\n",
    "wb_data = wbdata.get_dataframe(indicators, country=countries, convert_date=True)\n",
    "\n",
    "# Filter the data to the desired date range\n",
    "wb_data = wb_data[(wb_data.index >= start_date) & (wb_data.index <= end_date)]\n",
    "\n",
    "# Reshape and clean data\n",
    "wb_data = wb_data.unstack().reset_index()\n",
    "wb_data.columns = ['Country', 'Indicator', 'Date', 'Value']"
   ]
  },
  {
   "cell_type": "code",
   "execution_count": 13,
   "metadata": {},
   "outputs": [
    {
     "ename": "TypeError",
     "evalue": "missing a required argument: 'indicators'",
     "output_type": "error",
     "traceback": [
      "\u001b[1;31m---------------------------------------------------------------------------\u001b[0m",
      "\u001b[1;31mTypeError\u001b[0m                                 Traceback (most recent call last)",
      "Cell \u001b[1;32mIn[13], line 4\u001b[0m\n\u001b[0;32m      1\u001b[0m \u001b[38;5;66;03m# Fetch GDP data for major economies (e.g., United States, China, Euro Area)\u001b[39;00m\n\u001b[0;32m      2\u001b[0m countries \u001b[38;5;241m=\u001b[39m [\u001b[38;5;124m'\u001b[39m\u001b[38;5;124mUSA\u001b[39m\u001b[38;5;124m'\u001b[39m, \u001b[38;5;124m'\u001b[39m\u001b[38;5;124mCHN\u001b[39m\u001b[38;5;124m'\u001b[39m, \u001b[38;5;124m'\u001b[39m\u001b[38;5;124mEMU\u001b[39m\u001b[38;5;124m'\u001b[39m]  \u001b[38;5;66;03m# USA: United States, CHN: China, EMU: Euro Area\u001b[39;00m\n\u001b[1;32m----> 4\u001b[0m gdp_data \u001b[38;5;241m=\u001b[39m \u001b[43mwbdata\u001b[49m\u001b[38;5;241;43m.\u001b[39;49m\u001b[43mget_dataframe\u001b[49m\u001b[43m(\u001b[49m\u001b[43mindicator\u001b[49m\u001b[38;5;241;43m=\u001b[39;49m\u001b[38;5;124;43m'\u001b[39;49m\u001b[38;5;124;43mNY.GDP.MKTP.CD\u001b[39;49m\u001b[38;5;124;43m'\u001b[39;49m\u001b[43m,\u001b[49m\u001b[43m \u001b[49m\u001b[43mcountry\u001b[49m\u001b[38;5;241;43m=\u001b[39;49m\u001b[43mcountries\u001b[49m\u001b[43m,\u001b[49m\u001b[43m \u001b[49m\u001b[43mdata_date\u001b[49m\u001b[38;5;241;43m=\u001b[39;49m\u001b[43m(\u001b[49m\u001b[43mstart_date\u001b[49m\u001b[43m,\u001b[49m\u001b[43m \u001b[49m\u001b[43mend_date\u001b[49m\u001b[43m)\u001b[49m\u001b[43m)\u001b[49m\n\u001b[0;32m      5\u001b[0m gdp_data \u001b[38;5;241m=\u001b[39m gdp_data\u001b[38;5;241m.\u001b[39munstack()\u001b[38;5;241m.\u001b[39mreset_index()\n\u001b[0;32m      6\u001b[0m gdp_data\u001b[38;5;241m.\u001b[39mcolumns \u001b[38;5;241m=\u001b[39m [\u001b[38;5;124m'\u001b[39m\u001b[38;5;124mCountry\u001b[39m\u001b[38;5;124m'\u001b[39m, \u001b[38;5;124m'\u001b[39m\u001b[38;5;124mDate\u001b[39m\u001b[38;5;124m'\u001b[39m, \u001b[38;5;124m'\u001b[39m\u001b[38;5;124mGDP\u001b[39m\u001b[38;5;124m'\u001b[39m]\n",
      "File \u001b[1;32mc:\\Users\\Administrator\\miniconda3\\envs\\jojo\\lib\\site-packages\\decorator.py:231\u001b[0m, in \u001b[0;36mdecorate.<locals>.fun\u001b[1;34m(*args, **kw)\u001b[0m\n\u001b[0;32m    229\u001b[0m \u001b[38;5;28;01mdef\u001b[39;00m \u001b[38;5;21mfun\u001b[39m(\u001b[38;5;241m*\u001b[39margs, \u001b[38;5;241m*\u001b[39m\u001b[38;5;241m*\u001b[39mkw):\n\u001b[0;32m    230\u001b[0m     \u001b[38;5;28;01mif\u001b[39;00m \u001b[38;5;129;01mnot\u001b[39;00m kwsyntax:\n\u001b[1;32m--> 231\u001b[0m         args, kw \u001b[38;5;241m=\u001b[39m \u001b[43mfix\u001b[49m\u001b[43m(\u001b[49m\u001b[43margs\u001b[49m\u001b[43m,\u001b[49m\u001b[43m \u001b[49m\u001b[43mkw\u001b[49m\u001b[43m,\u001b[49m\u001b[43m \u001b[49m\u001b[43msig\u001b[49m\u001b[43m)\u001b[49m\n\u001b[0;32m    232\u001b[0m     \u001b[38;5;28;01mreturn\u001b[39;00m caller(func, \u001b[38;5;241m*\u001b[39m(extras \u001b[38;5;241m+\u001b[39m args), \u001b[38;5;241m*\u001b[39m\u001b[38;5;241m*\u001b[39mkw)\n",
      "File \u001b[1;32mc:\\Users\\Administrator\\miniconda3\\envs\\jojo\\lib\\site-packages\\decorator.py:203\u001b[0m, in \u001b[0;36mfix\u001b[1;34m(args, kwargs, sig)\u001b[0m\n\u001b[0;32m    199\u001b[0m \u001b[38;5;28;01mdef\u001b[39;00m \u001b[38;5;21mfix\u001b[39m(args, kwargs, sig):\n\u001b[0;32m    200\u001b[0m \u001b[38;5;250m    \u001b[39m\u001b[38;5;124;03m\"\"\"\u001b[39;00m\n\u001b[0;32m    201\u001b[0m \u001b[38;5;124;03m    Fix args and kwargs to be consistent with the signature\u001b[39;00m\n\u001b[0;32m    202\u001b[0m \u001b[38;5;124;03m    \"\"\"\u001b[39;00m\n\u001b[1;32m--> 203\u001b[0m     ba \u001b[38;5;241m=\u001b[39m sig\u001b[38;5;241m.\u001b[39mbind(\u001b[38;5;241m*\u001b[39margs, \u001b[38;5;241m*\u001b[39m\u001b[38;5;241m*\u001b[39mkwargs)\n\u001b[0;32m    204\u001b[0m     ba\u001b[38;5;241m.\u001b[39mapply_defaults()  \u001b[38;5;66;03m# needed for test_dan_schult\u001b[39;00m\n\u001b[0;32m    205\u001b[0m     \u001b[38;5;28;01mreturn\u001b[39;00m ba\u001b[38;5;241m.\u001b[39margs, ba\u001b[38;5;241m.\u001b[39mkwargs\n",
      "File \u001b[1;32mc:\\Users\\Administrator\\miniconda3\\envs\\jojo\\lib\\inspect.py:3045\u001b[0m, in \u001b[0;36mSignature.bind\u001b[1;34m(self, *args, **kwargs)\u001b[0m\n\u001b[0;32m   3040\u001b[0m \u001b[38;5;28;01mdef\u001b[39;00m \u001b[38;5;21mbind\u001b[39m(\u001b[38;5;28mself\u001b[39m, \u001b[38;5;241m/\u001b[39m, \u001b[38;5;241m*\u001b[39margs, \u001b[38;5;241m*\u001b[39m\u001b[38;5;241m*\u001b[39mkwargs):\n\u001b[0;32m   3041\u001b[0m \u001b[38;5;250m    \u001b[39m\u001b[38;5;124;03m\"\"\"Get a BoundArguments object, that maps the passed `args`\u001b[39;00m\n\u001b[0;32m   3042\u001b[0m \u001b[38;5;124;03m    and `kwargs` to the function's signature.  Raises `TypeError`\u001b[39;00m\n\u001b[0;32m   3043\u001b[0m \u001b[38;5;124;03m    if the passed arguments can not be bound.\u001b[39;00m\n\u001b[0;32m   3044\u001b[0m \u001b[38;5;124;03m    \"\"\"\u001b[39;00m\n\u001b[1;32m-> 3045\u001b[0m     \u001b[38;5;28;01mreturn\u001b[39;00m \u001b[38;5;28;43mself\u001b[39;49m\u001b[38;5;241;43m.\u001b[39;49m\u001b[43m_bind\u001b[49m\u001b[43m(\u001b[49m\u001b[43margs\u001b[49m\u001b[43m,\u001b[49m\u001b[43m \u001b[49m\u001b[43mkwargs\u001b[49m\u001b[43m)\u001b[49m\n",
      "File \u001b[1;32mc:\\Users\\Administrator\\miniconda3\\envs\\jojo\\lib\\inspect.py:2960\u001b[0m, in \u001b[0;36mSignature._bind\u001b[1;34m(self, args, kwargs, partial)\u001b[0m\n\u001b[0;32m   2958\u001b[0m                 msg \u001b[38;5;241m=\u001b[39m \u001b[38;5;124m'\u001b[39m\u001b[38;5;124mmissing a required argument: \u001b[39m\u001b[38;5;132;01m{arg!r}\u001b[39;00m\u001b[38;5;124m'\u001b[39m\n\u001b[0;32m   2959\u001b[0m                 msg \u001b[38;5;241m=\u001b[39m msg\u001b[38;5;241m.\u001b[39mformat(arg\u001b[38;5;241m=\u001b[39mparam\u001b[38;5;241m.\u001b[39mname)\n\u001b[1;32m-> 2960\u001b[0m                 \u001b[38;5;28;01mraise\u001b[39;00m \u001b[38;5;167;01mTypeError\u001b[39;00m(msg) \u001b[38;5;28;01mfrom\u001b[39;00m \u001b[38;5;28;01mNone\u001b[39;00m\n\u001b[0;32m   2961\u001b[0m \u001b[38;5;28;01melse\u001b[39;00m:\n\u001b[0;32m   2962\u001b[0m     \u001b[38;5;66;03m# We have a positional argument to process\u001b[39;00m\n\u001b[0;32m   2963\u001b[0m     \u001b[38;5;28;01mtry\u001b[39;00m:\n",
      "\u001b[1;31mTypeError\u001b[0m: missing a required argument: 'indicators'"
     ]
    }
   ],
   "source": [
    "# Fetch GDP data for major economies (e.g., United States, China, Euro Area)\n",
    "countries = ['USA', 'CHN', 'EMU']  # USA: United States, CHN: China, EMU: Euro Area\n",
    "\n",
    "gdp_data = wbdata.get_dataframe(indicator='NY.GDP.MKTP.CD', country=countries, data_date=(start_date, end_date))\n",
    "gdp_data = gdp_data.unstack().reset_index()\n",
    "gdp_data.columns = ['Country', 'Date', 'GDP']\n",
    "gdp_data.set_index('Date', inplace=True)\n",
    "gdp_data.sort_index(inplace=True)\n"
   ]
  },
  {
   "cell_type": "code",
   "execution_count": null,
   "metadata": {},
   "outputs": [],
   "source": [
    "# Fetch Inflation data (consumer prices) for major economies\n",
    "inflation_data = wbdata.get_dataframe(indicator='FP.CPI.TOTL', country=countries, data_date=(start_date, end_date))\n",
    "inflation_data = inflation_data.unstack().reset_index()\n",
    "inflation_data.columns = ['Country', 'Date', 'Inflation']\n",
    "inflation_data.set_index('Date', inplace=True)\n",
    "inflation_data.sort_index(inplace=True)\n"
   ]
  },
  {
   "cell_type": "code",
   "execution_count": null,
   "metadata": {},
   "outputs": [],
   "source": [
    "# Fetch Unemployment data for major economies\n",
    "unemployment_data = wbdata.get_dataframe(indicator='SL.UEM.TOTL.ZS', country=countries, data_date=(start_date, end_date))\n",
    "unemployment_data = unemployment_data.unstack().reset_index()\n",
    "unemployment_data.columns = ['Country', 'Date', 'Unemployment']\n",
    "unemployment_data.set_index('Date', inplace=True)\n",
    "unemployment_data.sort_index(inplace=True)\n"
   ]
  },
  {
   "cell_type": "code",
   "execution_count": null,
   "metadata": {},
   "outputs": [],
   "source": [
    "# Fetch USD/EUR exchange rate data\n",
    "exchange_rate_data = fred.get_series('DEXUSEU', start_date, end_date)\n",
    "exchange_rate_data = exchange_rate_data.to_frame(name='Exchange_Rate')\n",
    "exchange_rate_data.index.name = 'Date'\n",
    "exchange_rate_data.sort_index(inplace=True)\n"
   ]
  },
  {
   "cell_type": "code",
   "execution_count": null,
   "metadata": {},
   "outputs": [],
   "source": [
    "# Assuming 'data' is the original Brent oil prices DataFrame from Task 1\n",
    "# Ensure all datasets are at the same frequency (monthly/quarterly) if required\n",
    "\n",
    "# Merge GDP, Inflation, Unemployment, and Exchange Rate into the main dataset\n",
    "data = data.merge(gdp_data, how='left', left_index=True, right_index=True)\n",
    "data = data.merge(inflation_data, how='left', left_index=True, right_index=True)\n",
    "data = data.merge(unemployment_data, how='left', left_index=True, right_index=True)\n",
    "data = data.merge(exchange_rate_data, how='left', left_index=True, right_index=True)\n",
    "\n",
    "# Display merged data\n",
    "print(data.head())\n"
   ]
  },
  {
   "cell_type": "code",
   "execution_count": null,
   "metadata": {},
   "outputs": [],
   "source": [
    "# Plot the Brent Oil Price and Economic Indicators\n",
    "fig, axes = plt.subplots(3, 2, figsize=(14, 10), sharex=True)\n",
    "fig.suptitle('Brent Oil Price and Economic Indicators')\n",
    "\n",
    "axes[0, 0].plot(data['Price'], label='Brent Oil Price', color='blue')\n",
    "axes[0, 0].set_ylabel('Brent Oil Price (USD)')\n",
    "axes[0, 0].legend()\n",
    "\n",
    "axes[0, 1].plot(data['GDP'], label='GDP', color='green')\n",
    "axes[0, 1].set_ylabel('GDP (USD)')\n",
    "axes[0, 1].legend()\n",
    "\n",
    "axes[1, 0].plot(data['Inflation'], label='Inflation', color='purple')\n",
    "axes[1, 0].set_ylabel('Inflation (%)')\n",
    "axes[1, 0].legend()\n",
    "\n",
    "axes[1, 1].plot(data['Unemployment'], label='Unemployment', color='red')\n",
    "axes[1, 1].set_ylabel('Unemployment (%)')\n",
    "axes[1, 1].legend()\n",
    "\n",
    "axes[2, 0].plot(data['Exchange_Rate'], label='Exchange Rate (USD/EUR)', color='orange')\n",
    "axes[2, 0].set_ylabel('Exchange Rate')\n",
    "axes[2, 0].legend()\n",
    "\n",
    "plt.show()\n",
    "\n",
    "# Correlation matrix\n",
    "correlation_matrix = data[['Price', 'GDP', 'Inflation', 'Unemployment', 'Exchange_Rate']].corr()\n",
    "sns.heatmap(correlation_matrix, annot=True, cmap=\"coolwarm\")\n",
    "plt.title(\"Correlation Matrix between Brent Oil Price and Economic Indicators\")\n",
    "plt.show()\n"
   ]
  }
 ],
 "metadata": {
  "kernelspec": {
   "display_name": "jojo",
   "language": "python",
   "name": "python3"
  },
  "language_info": {
   "codemirror_mode": {
    "name": "ipython",
    "version": 3
   },
   "file_extension": ".py",
   "mimetype": "text/x-python",
   "name": "python",
   "nbconvert_exporter": "python",
   "pygments_lexer": "ipython3",
   "version": "3.9.20"
  }
 },
 "nbformat": 4,
 "nbformat_minor": 2
}
